{
  "cells": [
    {
      "cell_type": "markdown",
      "metadata": {
        "id": "view-in-github",
        "colab_type": "text"
      },
      "source": [
        "<a href=\"https://colab.research.google.com/github/tiakavousi/ml/blob/main/TensorFlow%20In%20Practice/Course%203%20-%20NLP/Course%203%20-%20Week%201%20-%20Lesson%201.ipynb\" target=\"_parent\"><img src=\"https://colab.research.google.com/assets/colab-badge.svg\" alt=\"Open In Colab\"/></a>"
      ]
    },
    {
      "cell_type": "code",
      "execution_count": 13,
      "metadata": {
        "id": "zaCMcjMQifQc"
      },
      "outputs": [],
      "source": [
        "# Package installations\n",
        "!pip install datasets transformers tensorflow pandas numpy scikit-learn\n",
        "!pip install wordcloud\n",
        "!pip install contractions\n",
        "\n",
        "# Core data science and machine learning\n",
        "import numpy as np\n",
        "import pandas as pd\n",
        "from sklearn.model_selection import train_test_split\n",
        "from sklearn.utils.class_weight import compute_class_weight\n",
        "\n",
        "# Deep learning imports\n",
        "import tensorflow as tf\n",
        "from tensorflow.keras.preprocessing.text import Tokenizer\n",
        "from tensorflow.keras.preprocessing.sequence import pad_sequences\n",
        "from tensorflow.keras.layers import (\n",
        "    Input,\n",
        "    Embedding,\n",
        "    LSTM,\n",
        "    Dense,\n",
        "    Dropout,\n",
        "    Bidirectional,\n",
        "    GlobalMaxPooling1D\n",
        ")\n",
        "from tensorflow.keras.models import Model\n",
        "from tensorflow.keras.callbacks import EarlyStopping\n",
        "\n",
        "# Text processing\n",
        "import re\n",
        "import contractions\n",
        "from bs4 import BeautifulSoup\n",
        "\n",
        "# Data loading and visualization\n",
        "from datasets import load_dataset\n",
        "import matplotlib.pyplot as plt\n",
        "import seaborn as sns\n",
        "from tqdm import tqdm"
      ]
    },
    {
      "cell_type": "code",
      "source": [
        "# Load Yelp dataset\n",
        "dataset = load_dataset(\"yelp_review_full\")\n",
        "df = pd.DataFrame(dataset['train'])"
      ],
      "metadata": {
        "id": "GWAUzFapYPhz"
      },
      "execution_count": 14,
      "outputs": []
    },
    {
      "cell_type": "code",
      "source": [
        "# Add length column\n",
        "df['length'] = df['text'].apply(len)\n",
        "print(df.head())"
      ],
      "metadata": {
        "colab": {
          "base_uri": "https://localhost:8080/"
        },
        "collapsed": true,
        "id": "hXzXEI_hics3",
        "outputId": "37a2018f-4c8f-4702-8182-3c7162349a19"
      },
      "execution_count": 15,
      "outputs": [
        {
          "output_type": "stream",
          "name": "stdout",
          "text": [
            "   label                                               text  length\n",
            "0      4  dr. goldberg offers everything i look for in a...     534\n",
            "1      1  Unfortunately, the frustration of being Dr. Go...     643\n",
            "2      3  Been going to Dr. Goldberg for over 10 years. ...     495\n",
            "3      3  Got a letter in the mail last week that said D...     261\n",
            "4      0  I don't know what Dr. Goldberg was like before...    1143\n"
          ]
        }
      ]
    },
    {
      "cell_type": "code",
      "source": [
        "# Print basic dataset information\n",
        "print(f\"Dataset shape: {df.shape}\")\n",
        "print(\"\\nColumns in dataset:\", df.columns.tolist())\n",
        "\n",
        "# View sample data\n",
        "print(\"\\nSample of the data:\")\n",
        "print(df.head())\n",
        "\n",
        "# Get dataset info and statistics\n",
        "print(\"\\nBasic information about the dataset:\")\n",
        "print(df.info())\n",
        "\n",
        "# Check for missing values\n",
        "print(\"\\nMissing values:\")\n",
        "print(df.isnull().sum())\n",
        "\n",
        "# Show distribution of ratings\n",
        "print(\"\\nDistribution of ratings:\")\n",
        "print(df['label'].value_counts().sort_index())"
      ],
      "metadata": {
        "colab": {
          "base_uri": "https://localhost:8080/"
        },
        "collapsed": true,
        "id": "dD8Mhu_DZUBL",
        "outputId": "190c858d-3654-400c-845c-5a6e3f8d4fad"
      },
      "execution_count": 16,
      "outputs": [
        {
          "output_type": "stream",
          "name": "stdout",
          "text": [
            "Dataset shape: (650000, 3)\n",
            "\n",
            "Columns in dataset: ['label', 'text', 'length']\n",
            "\n",
            "Sample of the data:\n",
            "   label                                               text  length\n",
            "0      4  dr. goldberg offers everything i look for in a...     534\n",
            "1      1  Unfortunately, the frustration of being Dr. Go...     643\n",
            "2      3  Been going to Dr. Goldberg for over 10 years. ...     495\n",
            "3      3  Got a letter in the mail last week that said D...     261\n",
            "4      0  I don't know what Dr. Goldberg was like before...    1143\n",
            "\n",
            "Basic information about the dataset:\n",
            "<class 'pandas.core.frame.DataFrame'>\n",
            "RangeIndex: 650000 entries, 0 to 649999\n",
            "Data columns (total 3 columns):\n",
            " #   Column  Non-Null Count   Dtype \n",
            "---  ------  --------------   ----- \n",
            " 0   label   650000 non-null  int64 \n",
            " 1   text    650000 non-null  object\n",
            " 2   length  650000 non-null  int64 \n",
            "dtypes: int64(2), object(1)\n",
            "memory usage: 14.9+ MB\n",
            "None\n",
            "\n",
            "Missing values:\n",
            "label     0\n",
            "text      0\n",
            "length    0\n",
            "dtype: int64\n",
            "\n",
            "Distribution of ratings:\n",
            "label\n",
            "0    130000\n",
            "1    130000\n",
            "2    130000\n",
            "3    130000\n",
            "4    130000\n",
            "Name: count, dtype: int64\n"
          ]
        }
      ]
    },
    {
      "cell_type": "code",
      "source": [
        "#Column names\n",
        "\n",
        "print(f\"Feature names : {df.columns.values}\")\n",
        "#Check for null values\n",
        "\n",
        "print(df.isnull().sum())"
      ],
      "metadata": {
        "colab": {
          "base_uri": "https://localhost:8080/"
        },
        "collapsed": true,
        "id": "kDPeoijJf4xu",
        "outputId": "73421f80-5fd8-4275-d8b2-c0bebaf1d590"
      },
      "execution_count": 17,
      "outputs": [
        {
          "output_type": "stream",
          "name": "stdout",
          "text": [
            "Feature names : ['label' 'text' 'length']\n",
            "label     0\n",
            "text      0\n",
            "length    0\n",
            "dtype: int64\n"
          ]
        }
      ]
    },
    {
      "cell_type": "code",
      "source": [
        "# Get basic statistics of review lengths\n",
        "print(\"\\nReview length statistics:\")\n",
        "print(df['length'].describe())\n",
        "\n",
        "# Optional: Distribution of lengths by rating\n",
        "print(\"\\nAverage review length by rating:\")\n",
        "print(df.groupby('label')['length'].mean())"
      ],
      "metadata": {
        "colab": {
          "base_uri": "https://localhost:8080/"
        },
        "collapsed": true,
        "id": "8Qc6yeHxgJt2",
        "outputId": "b26b7edf-5fc3-44c8-e84e-1b0dcdbfb4c1"
      },
      "execution_count": 18,
      "outputs": [
        {
          "output_type": "stream",
          "name": "stdout",
          "text": [
            "\n",
            "Review length statistics:\n",
            "count    650000.000000\n",
            "mean        732.325468\n",
            "std         663.721184\n",
            "min           1.000000\n",
            "25%         287.000000\n",
            "50%         539.000000\n",
            "75%         957.000000\n",
            "max        5637.000000\n",
            "Name: length, dtype: float64\n",
            "\n",
            "Average review length by rating:\n",
            "label\n",
            "0    815.307762\n",
            "1    827.625792\n",
            "2    758.695454\n",
            "3    680.159985\n",
            "4    579.838346\n",
            "Name: length, dtype: float64\n"
          ]
        }
      ]
    },
    {
      "cell_type": "code",
      "source": [
        "# Print a random review with its details\n",
        "random_review = df.sample(n=1).iloc[0]\n",
        "print(\"Random Review:\")\n",
        "print(\"-\" * 50)\n",
        "print(f\"Review Text: {random_review['text']}\")\n",
        "print(f\"Rating: {random_review['label'] + 1} stars\")  # Adding 1 because labels are 0-4\n",
        "print(f\"Length: {random_review['length']} characters\")"
      ],
      "metadata": {
        "colab": {
          "base_uri": "https://localhost:8080/"
        },
        "collapsed": true,
        "id": "JCoTdW3jhk0d",
        "outputId": "8589f8a4-e95c-4490-a36c-3ada3adc3bef"
      },
      "execution_count": 19,
      "outputs": [
        {
          "output_type": "stream",
          "name": "stdout",
          "text": [
            "Random Review:\n",
            "--------------------------------------------------\n",
            "Review Text: WOW! Can you say best teeth whitening experience you can ever ask for. \\n\\n1.Quality of service. 5 star\\n2.Education about keeping my teeth white after the treatment. 5 star\\n3.Relaxing and to know I am in good hands 5 star\\n4. Price 5 star \\n\\nYou can't miss this place located right behind in n out. I live on the complete opposite side of town, and It is worth going too every time, I love it!\n",
            "Rating: 5 stars\n",
            "Length: 396 characters\n"
          ]
        }
      ]
    },
    {
      "cell_type": "code",
      "source": [
        "len(df)\n"
      ],
      "metadata": {
        "colab": {
          "base_uri": "https://localhost:8080/"
        },
        "collapsed": true,
        "id": "nErDYK8Xh8Jl",
        "outputId": "d734e88f-9ee5-4f8f-98e7-6afb8cdb2d51"
      },
      "execution_count": 20,
      "outputs": [
        {
          "output_type": "execute_result",
          "data": {
            "text/plain": [
              "650000"
            ]
          },
          "metadata": {},
          "execution_count": 20
        }
      ]
    },
    {
      "cell_type": "code",
      "source": [
        "plt.figure(figsize=(10, 6))\n",
        "sns.countplot(x='label', data=df, palette='viridis')\n",
        "\n",
        "# Customize the chart\n",
        "plt.title('Distribution of Ratings in Yelp Reviews', pad=15)\n",
        "plt.xlabel('Rating (Stars)')\n",
        "plt.ylabel('Number of Reviews')\n",
        "\n",
        "# Adjust x-axis labels (since labels are 0-4, but represent 1-5 stars)\n",
        "plt.xticks(range(5), ['1 Star', '2 Stars', '3 Stars', '4 Stars', '5 Stars'])\n",
        "\n",
        "# Add value labels on top of each bar\n",
        "for i in plt.gca().containers:\n",
        "    plt.gca().bar_label(i, fmt='%d', padding=3)\n",
        "\n",
        "# Adjust layout\n",
        "plt.tight_layout()\n",
        "\n",
        "# Show the plot\n",
        "plt.show()\n",
        "\n",
        "# Optional: Print exact counts\n",
        "print(\"\\nRating Distribution:\")\n",
        "print(df['label'].value_counts().sort_index().to_frame(name='Count'))"
      ],
      "metadata": {
        "colab": {
          "base_uri": "https://localhost:8080/",
          "height": 899
        },
        "collapsed": true,
        "id": "lBbrFwdcispF",
        "outputId": "babdce0f-dafb-4b21-a288-cf41e4591d6d"
      },
      "execution_count": 21,
      "outputs": [
        {
          "output_type": "stream",
          "name": "stderr",
          "text": [
            "<ipython-input-21-f8c7d56c15aa>:2: FutureWarning: \n",
            "\n",
            "Passing `palette` without assigning `hue` is deprecated and will be removed in v0.14.0. Assign the `x` variable to `hue` and set `legend=False` for the same effect.\n",
            "\n",
            "  sns.countplot(x='label', data=df, palette='viridis')\n"
          ]
        },
        {
          "output_type": "display_data",
          "data": {
            "text/plain": [
              "<Figure size 1000x600 with 1 Axes>"
            ],
            "image/png": "[encoded data removed]"
          },
          "metadata": {}
        },
        {
          "output_type": "stream",
          "name": "stdout",
          "text": [
            "\n",
            "Rating Distribution:\n",
            "        Count\n",
            "label        \n",
            "0      130000\n",
            "1      130000\n",
            "2      130000\n",
            "3      130000\n",
            "4      130000\n"
          ]
        }
      ]
    },
    {
      "cell_type": "code",
      "source": [
        "# Correct conversion function\n",
        "def convert_to_sentiment(stars):\n",
        "    if stars <= 1:       # 1-2 stars (ratings 0-1)\n",
        "        return 0         # negative\n",
        "    elif stars == 2:     # 3 stars (rating 2)\n",
        "        return 1         # neutral\n",
        "    else:               # 4-5 stars (ratings 3-4)\n",
        "        return 2         # positive\n",
        "\n",
        "# Apply corrected conversion\n",
        "df['sentiment'] = df['label'].apply(convert_to_sentiment)\n",
        "\n",
        "# Check distribution\n",
        "print(\"\\nSentiment Distribution:\")\n",
        "sentiment_mapping = {0: 'Negative', 1: 'Neutral', 2: 'Positive'}\n",
        "print(df['sentiment'].value_counts().sort_index().rename(index=sentiment_mapping))"
      ],
      "metadata": {
        "colab": {
          "base_uri": "https://localhost:8080/"
        },
        "collapsed": true,
        "id": "K2VhGIhKjQo1",
        "outputId": "dbf13a06-b886-4b11-ce70-11cec2f95dc3"
      },
      "execution_count": 24,
      "outputs": [
        {
          "output_type": "stream",
          "name": "stdout",
          "text": [
            "\n",
            "Sentiment Distribution:\n",
            "sentiment\n",
            "Negative    260000\n",
            "Neutral     130000\n",
            "Positive    260000\n",
            "Name: count, dtype: int64\n"
          ]
        }
      ]
    },
    {
      "cell_type": "code",
      "source": [
        "# Create bar chart\n",
        "plt.figure(figsize=(10, 6))\n",
        "colors = ['#ff6b6b', '#4ecdc4', '#45b7d1']  # Red for negative, teal for neutral, blue for positive\n",
        "sns.countplot(x='sentiment', data=df, palette=colors)\n",
        "\n",
        "# Customize the chart\n",
        "plt.title('Distribution of Review Sentiments', pad=15, size=14)\n",
        "plt.xlabel('Sentiment Category', size=12)\n",
        "plt.ylabel('Number of Reviews', size=12)\n",
        "\n",
        "# Change x-axis labels\n",
        "plt.xticks([0, 1, 2], ['Negative', 'Neutral', 'Positive'])\n",
        "\n",
        "# Add value labels on top of each bar\n",
        "for i in plt.gca().containers:\n",
        "   plt.gca().bar_label(i, fmt='%d', padding=3)\n",
        "\n",
        "# Add grid for better readability\n",
        "plt.grid(axis='y', linestyle='--', alpha=0.7)\n",
        "\n",
        "# Adjust layout\n",
        "plt.tight_layout()\n",
        "\n",
        "# Show the plot\n",
        "plt.show()\n",
        "\n",
        "# Print exact counts\n",
        "print(\"\\nSentiment Distribution:\")\n",
        "sentiment_mapping = {0: 'Negative', 1: 'Neutral', 2: 'Positive'}\n",
        "print(df['sentiment'].value_counts().sort_index().rename(index=sentiment_mapping))"
      ],
      "metadata": {
        "colab": {
          "base_uri": "https://localhost:8080/",
          "height": 857
        },
        "collapsed": true,
        "id": "qOJR3Q-Nktwv",
        "outputId": "15168df8-c247-4dc8-e9fd-a58530e5001e"
      },
      "execution_count": 25,
      "outputs": [
        {
          "output_type": "stream",
          "name": "stderr",
          "text": [
            "<ipython-input-25-1f250679fbb4>:4: FutureWarning: \n",
            "\n",
            "Passing `palette` without assigning `hue` is deprecated and will be removed in v0.14.0. Assign the `x` variable to `hue` and set `legend=False` for the same effect.\n",
            "\n",
            "  sns.countplot(x='sentiment', data=df, palette=colors)\n"
          ]
        },
        {
          "output_type": "display_data",
          "data": {
            "text/plain": [
              "<Figure size 1000x600 with 1 Axes>"
            ],
            "image/png": "[encoded data removed]"
          },
          "metadata": {}
        },
        {
          "output_type": "stream",
          "name": "stdout",
          "text": [
            "\n",
            "Sentiment Distribution:\n",
            "sentiment\n",
            "Negative    260000\n",
            "Neutral     130000\n",
            "Positive    260000\n",
            "Name: count, dtype: int64\n"
          ]
        }
      ]
    },
    {
      "cell_type": "code",
      "source": [
        "# This shows:\n",
        "# Neutral class is underrepresented, with only half as many samples as the other classes\n",
        "# Negative and Positive classes are balanced with each other\n",
        "# The ratio is approximately 2:1:2 (Negative:Neutral:Positive)\n",
        "\n",
        "# This imbalance could affect model performance because:\n",
        "\n",
        "# The model might not learn neutral sentiment patterns as well due to fewer examples\n",
        "# The model might be biased toward predicting negative or positive over neutral\n",
        "# Performance metrics need to be chosen carefully (accuracy alone wouldn't be sufficient)"
      ],
      "metadata": {
        "id": "jbSOQqRolGER"
      },
      "execution_count": null,
      "outputs": []
    },
    {
      "cell_type": "code",
      "source": [
        "# Get class weights\n",
        "class_weights = compute_class_weight(\n",
        "    class_weight='balanced',\n",
        "    classes=np.unique(df['sentiment']),\n",
        "    y=df['sentiment']\n",
        ")\n",
        "\n",
        "# Convert to dictionary\n",
        "weight_dict = dict(enumerate(class_weights))\n",
        "\n",
        "print(\"Calculated class weights:\")\n",
        "for sentiment, weight in weight_dict.items():\n",
        "    print(f\"{sentiment_mapping[sentiment]}: {weight:.2f}\")\n",
        "\n",
        "'''\n",
        "This will likely give weights approximately:\n",
        "Negative: 1.0\n",
        "Neutral:  2.0\n",
        "Positive: 1.0\n",
        "'''"
      ],
      "metadata": {
        "colab": {
          "base_uri": "https://localhost:8080/",
          "height": 125
        },
        "collapsed": true,
        "id": "K7IsRO2nqXko",
        "outputId": "ece1f76f-9b7d-430c-800c-74323fae774b"
      },
      "execution_count": 26,
      "outputs": [
        {
          "output_type": "stream",
          "name": "stdout",
          "text": [
            "Calculated class weights:\n",
            "Negative: 0.83\n",
            "Neutral: 1.67\n",
            "Positive: 0.83\n"
          ]
        },
        {
          "output_type": "execute_result",
          "data": {
            "text/plain": [
              "'\\nThis will likely give weights approximately:\\nNegative: 1.0\\nNeutral:  2.0\\nPositive: 1.0\\n'"
            ],
            "application/vnd.google.colaboratory.intrinsic+json": {
              "type": "string"
            }
          },
          "metadata": {},
          "execution_count": 26
        }
      ]
    },
    {
      "cell_type": "code",
      "source": [
        "# First, let's prepare our features (X) and target (y)\n",
        "X = df['text']  # review text\n",
        "y = df['sentiment']  # sentiment labels\n",
        "\n",
        "# Split the data\n",
        "X_train, X_test, y_train, y_test = train_test_split(\n",
        "    X,\n",
        "    y,\n",
        "    test_size=0.2,\n",
        "    random_state=42,\n",
        "    stratify=y\n",
        ")\n",
        "\n",
        "# Print the shapes\n",
        "print(\"\\nData Split Sizes:\")\n",
        "print(f\"Training set: {X_train.shape[0]:,} reviews\")\n",
        "print(f\"Test set: {X_test.shape[0]:,} reviews\")\n",
        "\n",
        "# Check distributions with corrected percentage calculation\n",
        "print(\"\\nTraining Set Distribution:\")\n",
        "train_dist = pd.Series(y_train).value_counts().sort_index()\n",
        "for sentiment, count in train_dist.items():\n",
        "    percentage = round((count/len(y_train)*100), 2)  # Fixed round function usage\n",
        "    print(f\"{sentiment_mapping[sentiment]}: {count:,} ({percentage}%)\")\n",
        "\n",
        "print(\"\\nTest Set Distribution:\")\n",
        "test_dist = pd.Series(y_test).value_counts().sort_index()\n",
        "for sentiment, count in test_dist.items():\n",
        "    percentage = round((count/len(y_test)*100), 2)  # Fixed round function usage\n",
        "    print(f\"{sentiment_mapping[sentiment]}: {count:,} ({percentage}%)\")\n",
        "\n",
        "# Optional: Visualize the distributions\n",
        "plt.figure(figsize=(12, 5))\n",
        "\n",
        "# Training set distribution\n",
        "plt.subplot(1, 2, 1)\n",
        "plt.bar(sentiment_mapping.values(), train_dist.values, color=['#ff6b6b', '#4ecdc4', '#45b7d1'])\n",
        "plt.title('Training Set Distribution')\n",
        "plt.ylabel('Number of Reviews')\n",
        "plt.xticks(rotation=45)\n",
        "\n",
        "# Test set distribution\n",
        "plt.subplot(1, 2, 2)\n",
        "plt.bar(sentiment_mapping.values(), test_dist.values, color=['#ff6b6b', '#4ecdc4', '#45b7d1'])\n",
        "plt.title('Test Set Distribution')\n",
        "plt.ylabel('Number of Reviews')\n",
        "plt.xticks(rotation=45)\n",
        "\n",
        "plt.tight_layout()\n",
        "plt.show()"
      ],
      "metadata": {
        "colab": {
          "base_uri": "https://localhost:8080/",
          "height": 799
        },
        "collapsed": true,
        "id": "lQ3n1rWurK4U",
        "outputId": "c2a2fb59-d689-45f7-d34e-335db46de38c"
      },
      "execution_count": 28,
      "outputs": [
        {
          "output_type": "stream",
          "name": "stdout",
          "text": [
            "\n",
            "Data Split Sizes:\n",
            "Training set: 520,000 reviews\n",
            "Test set: 130,000 reviews\n",
            "\n",
            "Training Set Distribution:\n",
            "Negative: 208,000 (40.0%)\n",
            "Neutral: 104,000 (20.0%)\n",
            "Positive: 208,000 (40.0%)\n",
            "\n",
            "Test Set Distribution:\n",
            "Negative: 52,000 (40.0%)\n",
            "Neutral: 26,000 (20.0%)\n",
            "Positive: 52,000 (40.0%)\n"
          ]
        },
        {
          "output_type": "display_data",
          "data": {
            "text/plain": [
              "<Figure size 1200x500 with 2 Axes>"
            ],
            "image/png": "[encoded data removed]"
          },
          "metadata": {}
        }
      ]
    },
    {
      "cell_type": "code",
      "source": [
        "# Initialize processed lists\n",
        "X_train_processed = []\n",
        "X_test_processed = []\n",
        "\n",
        "# Process training data\n",
        "for text in tqdm(X_train, desc=\"Processing training data\"):\n",
        "    # Convert to string\n",
        "    text = str(text)\n",
        "\n",
        "    # Remove HTML\n",
        "    text = BeautifulSoup(text, \"html.parser\").get_text()\n",
        "\n",
        "    # Fix contractions\n",
        "    text = contractions.fix(text)\n",
        "\n",
        "    # Convert to lowercase\n",
        "    text = text.lower()\n",
        "\n",
        "    # Remove email addresses and URLs\n",
        "    text = re.sub(r'\\S+@\\S+|http\\S+|www\\S+', '', text)\n",
        "\n",
        "    # Remove special characters but keep important punctuation\n",
        "    text = re.sub(r'[^a-zA-Z0-9\\s\\.\\,\\!\\?]', '', text)\n",
        "\n",
        "    # Replace multiple spaces\n",
        "    text = re.sub(r'\\s+', ' ', text)\n",
        "\n",
        "    X_train_processed.append(text.strip())\n",
        "\n",
        "# Process test data (same steps)\n",
        "for text in tqdm(X_test, desc=\"Processing test data\"):\n",
        "    # (same processing steps as above)\n",
        "    X_test_processed.append(text.strip())\n",
        "\n",
        "# Check a sample\n",
        "print(\"\\nOriginal:\", X_train.iloc[0][:200])\n",
        "print(\"\\nProcessed:\", X_train_processed[0][:200])"
      ],
      "metadata": {
        "colab": {
          "base_uri": "https://localhost:8080/"
        },
        "collapsed": true,
        "id": "DyO7n6Am1iY9",
        "outputId": "28a309f0-fa1f-430b-9237-0b74612740f9"
      },
      "execution_count": 34,
      "outputs": [
        {
          "output_type": "stream",
          "name": "stdout",
          "text": [
            "Collecting contractions\n",
            "  Downloading contractions-0.1.73-py2.py3-none-any.whl.metadata (1.2 kB)\n",
            "Collecting textsearch>=0.0.21 (from contractions)\n",
            "  Downloading textsearch-0.0.24-py2.py3-none-any.whl.metadata (1.2 kB)\n",
            "Collecting anyascii (from textsearch>=0.0.21->contractions)\n",
            "  Downloading anyascii-0.3.2-py3-none-any.whl.metadata (1.5 kB)\n",
            "Collecting pyahocorasick (from textsearch>=0.0.21->contractions)\n",
            "  Downloading pyahocorasick-2.1.0-cp310-cp310-manylinux_2_5_x86_64.manylinux1_x86_64.manylinux_2_12_x86_64.manylinux2010_x86_64.whl.metadata (13 kB)\n",
            "Downloading contractions-0.1.73-py2.py3-none-any.whl (8.7 kB)\n",
            "Downloading textsearch-0.0.24-py2.py3-none-any.whl (7.6 kB)\n",
            "Downloading anyascii-0.3.2-py3-none-any.whl (289 kB)\n",
            "\u001b[2K   \u001b[90m━━━━━━━━━━━━━━━━━━━━━━━━━━━━━━━━━━━━━━━━\u001b[0m \u001b[32m289.9/289.9 kB\u001b[0m \u001b[31m22.3 MB/s\u001b[0m eta \u001b[36m0:00:00\u001b[0m\n",
            "\u001b[?25hDownloading pyahocorasick-2.1.0-cp310-cp310-manylinux_2_5_x86_64.manylinux1_x86_64.manylinux_2_12_x86_64.manylinux2010_x86_64.whl (110 kB)\n",
            "\u001b[2K   \u001b[90m━━━━━━━━━━━━━━━━━━━━━━━━━━━━━━━━━━━━━━━━\u001b[0m \u001b[32m110.7/110.7 kB\u001b[0m \u001b[31m9.8 MB/s\u001b[0m eta \u001b[36m0:00:00\u001b[0m\n",
            "\u001b[?25hInstalling collected packages: pyahocorasick, anyascii, textsearch, contractions\n",
            "Successfully installed anyascii-0.3.2 contractions-0.1.73 pyahocorasick-2.1.0 textsearch-0.0.24\n"
          ]
        },
        {
          "output_type": "stream",
          "name": "stderr",
          "text": [
            "Processing training data:   0%|          | 0/520000 [00:00<?, ?it/s]<ipython-input-34-453795328514>:17: MarkupResemblesLocatorWarning: The input looks more like a filename than markup. You may want to open this file and pass the filehandle into Beautiful Soup.\n",
            "  text = BeautifulSoup(text, \"html.parser\").get_text()\n",
            "Processing training data:  20%|██        | 105664/520000 [00:24<01:28, 4696.55it/s]<ipython-input-34-453795328514>:17: MarkupResemblesLocatorWarning: The input looks more like a URL than markup. You may want to use an HTTP client like requests to get the document behind the URL, and feed that document to Beautiful Soup.\n",
            "  text = BeautifulSoup(text, \"html.parser\").get_text()\n",
            "Processing training data: 100%|██████████| 520000/520000 [02:03<00:00, 4197.84it/s]\n",
            "Processing test data: 100%|██████████| 130000/130000 [00:00<00:00, 877102.47it/s]"
          ]
        },
        {
          "output_type": "stream",
          "name": "stdout",
          "text": [
            "\n",
            "Original: Lots of space and seating.  Coffee changes weekly. It's a nice location close to old town.  And the room is really open - you definitely don't feel crowded in here.\n",
            "\n",
            "Processed: lots of space and seating. coffee changes weekly. it is a nice location close to old town. and the room is really open you definitely do not feel crowded in here.\n"
          ]
        },
        {
          "output_type": "stream",
          "name": "stderr",
          "text": [
            "\n"
          ]
        }
      ]
    },
    {
      "cell_type": "code",
      "source": [
        "# Calculate lengths\n",
        "train_lengths = [len(text.split()) for text in X_train_processed]\n",
        "\n",
        "# Calculate statistics\n",
        "length_stats = {\n",
        "    'mean': np.mean(train_lengths),\n",
        "    'median': np.median(train_lengths),\n",
        "    'std': np.std(train_lengths),\n",
        "    'min': np.min(train_lengths),\n",
        "    'max': np.max(train_lengths),\n",
        "    '25th': np.percentile(train_lengths, 25),\n",
        "    '75th': np.percentile(train_lengths, 75)\n",
        "}\n",
        "\n",
        "# Plot length distribution\n",
        "plt.figure(figsize=(10, 6))\n",
        "plt.hist(train_lengths, bins=50)\n",
        "plt.axvline(x=300, color='r', linestyle='--', label='max_len=800')\n",
        "plt.title('Review Length Distribution')\n",
        "plt.xlabel('Length (words)')\n",
        "plt.ylabel('Count')\n",
        "plt.legend()\n",
        "plt.show()\n",
        "\n",
        "print(\"\\nLength statistics:\", length_stats)"
      ],
      "metadata": {
        "colab": {
          "base_uri": "https://localhost:8080/",
          "height": 606
        },
        "id": "Gc06x3SE5qxw",
        "outputId": "eed367c6-6e38-48ef-9b4f-d9513f4eba34"
      },
      "execution_count": 35,
      "outputs": [
        {
          "output_type": "display_data",
          "data": {
            "text/plain": [
              "<Figure size 1000x600 with 1 Axes>"
            ],
            "image/png": "[encoded data removed]"
          },
          "metadata": {}
        },
        {
          "output_type": "stream",
          "name": "stdout",
          "text": [
            "\n",
            "Length statistics: {'mean': 135.86967307692308, 'median': 100.0, 'std': 122.87020609432686, 'min': 0, 'max': 1048, '25th': 53.0, '75th': 178.0}\n"
          ]
        }
      ]
    },
    {
      "cell_type": "code",
      "source": [
        "# Initialize and fit tokenizer on training data\n",
        "max_words = 15000\n",
        "tokenizer = Tokenizer(num_words=max_words, oov_token='<OOV>')\n",
        "tokenizer.fit_on_texts(X_train_processed)\n",
        "\n",
        "# Get vocabulary info\n",
        "vocab_size = len(tokenizer.word_index)\n",
        "print(f\"\\nTotal unique words: {vocab_size}\")\n",
        "print(f\"Top 20 most common words:\",\n",
        "      sorted(tokenizer.word_index.items(), key=lambda x: x[1])[:20])"
      ],
      "metadata": {
        "id": "HSH-duyJ5zip"
      },
      "execution_count": null,
      "outputs": []
    },
    {
      "cell_type": "code",
      "source": [
        "# Convert texts to sequences\n",
        "X_train_seq = tokenizer.texts_to_sequences(X_train_processed)\n",
        "X_test_seq = tokenizer.texts_to_sequences(X_test_processed)\n",
        "\n",
        "# Pad sequences\n",
        "max_len = 300\n",
        "X_train_pad = pad_sequences(X_train_seq, maxlen=max_len, padding='post', truncating='post')\n",
        "X_test_pad = pad_sequences(X_test_seq, maxlen=max_len, padding='post', truncating='post')\n",
        "\n",
        "print(\"\\nTraining set shape:\", X_train_pad.shape)\n",
        "print(\"Test set shape:\", X_test_pad.shape)"
      ],
      "metadata": {
        "id": "tVgysw4Yi8Jq"
      },
      "execution_count": null,
      "outputs": []
    },
    {
      "cell_type": "code",
      "source": [
        "# Initialize embeddings dictionary\n",
        "embedding_dim = 200\n",
        "embeddings_index = {}\n",
        "\n",
        "# Load GloVe embeddings\n",
        "with open('glove.6B.200d.txt', encoding='utf-8') as f:\n",
        "    for line in tqdm(f, desc=\"Loading GloVe\"):\n",
        "        values = line.split()\n",
        "        word = values[0]\n",
        "        coefs = np.asarray(values[1:], dtype='float32')\n",
        "        embeddings_index[word] = coefs\n",
        "\n",
        "print(f\"\\nLoaded {len(embeddings_index)} word vectors\")\n",
        "\n",
        "# Create embedding matrix\n",
        "embedding_matrix = np.zeros((max_words, embedding_dim))\n",
        "words_found = 0\n",
        "\n",
        "for word, i in tokenizer.word_index.items():\n",
        "    if i >= max_words:\n",
        "        break\n",
        "    embedding_vector = embeddings_index.get(word)\n",
        "    if embedding_vector is not None:\n",
        "        embedding_matrix[i] = embedding_vector\n",
        "        words_found += 1\n",
        "\n",
        "print(f\"\\nFound embeddings for {words_found}/{min(max_words, len(tokenizer.word_index))} words\")"
      ],
      "metadata": {
        "id": "uUwbo7C_jIcY"
      },
      "execution_count": null,
      "outputs": []
    },
    {
      "cell_type": "code",
      "source": [
        "# Convert labels to numpy arrays if needed\n",
        "y_train = np.array(y_train)\n",
        "y_test = np.array(y_test)\n",
        "\n",
        "# Create validation split from training data\n",
        "from sklearn.model_selection import train_test_split\n",
        "\n",
        "X_train_final, X_val, y_train_final, y_val = train_test_split(\n",
        "    X_train_pad, y_train,\n",
        "    test_size=0.1,\n",
        "    random_state=42,\n",
        "    stratify=y_train\n",
        ")\n",
        "\n",
        "# Print final shapes\n",
        "print(\"\\nFinal data shapes:\")\n",
        "print(f\"X_train: {X_train_final.shape}\")\n",
        "print(f\"X_val: {X_val.shape}\")\n",
        "print(f\"X_test: {X_test_pad.shape}\")\n",
        "print(f\"Embedding matrix: {embedding_matrix.shape}\")"
      ],
      "metadata": {
        "id": "EqlPcQ30jVgR"
      },
      "execution_count": null,
      "outputs": []
    },
    {
      "cell_type": "code",
      "source": [
        "class SentimentAnalyzer:\n",
        "    def __init__(self, max_words=10000, max_len=200, embedding_dim=100):\n",
        "        self.max_words = max_words\n",
        "        self.max_len = max_len\n",
        "        self.embedding_dim = embedding_dim\n",
        "        self.tokenizer = Tokenizer(num_words=max_words)\n",
        "        self.model = None\n",
        "\n",
        "\n",
        "\n",
        "\n",
        "    def build_model(self):\n",
        "        \"\"\"\n",
        "        Build model architecture\n",
        "        \"\"\"\n",
        "        input_layer = Input(shape=(self.max_len,))\n",
        "\n",
        "        embedding = Embedding(\n",
        "            self.max_words,\n",
        "            self.embedding_dim,\n",
        "            input_length=self.max_len\n",
        "        )(input_layer)\n",
        "\n",
        "        # Bidirectional LSTM layers\n",
        "        lstm_1 = Bidirectional(LSTM(64, return_sequences=True))(embedding)\n",
        "        lstm_2 = Bidirectional(LSTM(32, return_sequences=True))(lstm_1)\n",
        "\n",
        "        # Global pooling\n",
        "        pooled = GlobalMaxPooling1D()(lstm_2)\n",
        "\n",
        "        # Dense layers with dropout\n",
        "        dense_1 = Dense(64, activation='relu')(pooled)\n",
        "        dropout_1 = Dropout(0.3)(dense_1)\n",
        "\n",
        "        dense_2 = Dense(32, activation='relu')(dropout_1)\n",
        "        dropout_2 = Dropout(0.2)(dense_2)\n",
        "\n",
        "        # Output layer (3 classes)\n",
        "        output_layer = Dense(3, activation='softmax')(dropout_2)\n",
        "\n",
        "        model = Model(inputs=input_layer, outputs=output_layer)\n",
        "\n",
        "        model.compile(\n",
        "            optimizer='adam',\n",
        "            loss='categorical_crossentropy',\n",
        "            metrics=['accuracy']\n",
        "        )\n",
        "\n",
        "        self.model = model\n",
        "        return model\n",
        "\n",
        "    def train(self, X_train, y_train, validation_data=None, epochs=10):\n",
        "        \"\"\"\n",
        "        Train the model\n",
        "        \"\"\"\n",
        "        early_stopping = EarlyStopping(\n",
        "            monitor='val_loss',\n",
        "            patience=3,\n",
        "            restore_best_weights=True\n",
        "        )\n",
        "\n",
        "        history = self.model.fit(\n",
        "            X_train,\n",
        "            y_train,\n",
        "            epochs=epochs,\n",
        "            validation_data=validation_data,\n",
        "            callbacks=[early_stopping],\n",
        "            batch_size=32\n",
        "        )\n",
        "\n",
        "        return history\n",
        "\n",
        "    def predict(self, texts):\n",
        "        \"\"\"\n",
        "        Make predictions on new texts\n",
        "        \"\"\"\n",
        "        # Prepare input data\n",
        "        sequences = self.tokenizer.texts_to_sequences(texts)\n",
        "        X = pad_sequences(sequences, maxlen=self.max_len)\n",
        "\n",
        "        # Get predictions\n",
        "        predictions = self.model.predict(X)\n",
        "\n",
        "        # Convert predictions to labels\n",
        "        labels = ['negative', 'neutral', 'positive']\n",
        "        results = []\n",
        "\n",
        "        for pred in predictions:\n",
        "            label_idx = np.argmax(pred)\n",
        "            confidence = float(pred[label_idx])\n",
        "\n",
        "            # If confidence is low or scores are close, consider neutral\n",
        "            if confidence < 0.5 or (\n",
        "                abs(pred[0] - pred[2]) < 0.2  # Difference between pos and neg\n",
        "            ):\n",
        "                label_idx = 1  # neutral\n",
        "                confidence = float(pred[1])\n",
        "\n",
        "            results.append({\n",
        "                'sentiment': labels[label_idx],\n",
        "                'confidence': confidence,\n",
        "                'scores': {\n",
        "                    'negative': float(pred[0]),\n",
        "                    'neutral': float(pred[1]),\n",
        "                    'positive': float(pred[2])\n",
        "                }\n",
        "            })\n",
        "\n",
        "        return results"
      ],
      "metadata": {
        "id": "hlVsAAmb1xV2"
      },
      "execution_count": null,
      "outputs": []
    },
    {
      "cell_type": "code",
      "source": [
        "def test_sentiment_analyzer(analyzer):\n",
        "    \"\"\"\n",
        "    Test the sentiment analyzer with various types of reviews\n",
        "    \"\"\"\n",
        "    test_cases = {\n",
        "        \"Positive Reviews\": [\n",
        "            \"This is absolutely amazing! The best experience I've ever had!\",\n",
        "            \"Outstanding service and incredible quality. Highly recommend to everyone!\",\n",
        "            \"Exceeded all my expectations. Perfect in every way possible!\"\n",
        "        ],\n",
        "\n",
        "        \"Negative Reviews\": [\n",
        "            \"Terrible experience. Worst service I've ever encountered.\",\n",
        "            \"Complete waste of money. Extremely disappointing quality.\",\n",
        "            \"Absolutely horrible. Would never recommend this to anyone.\"\n",
        "        ],\n",
        "\n",
        "        \"Neutral Reviews\": [\n",
        "            \"It's okay, nothing special but nothing terrible either.\",\n",
        "            \"Average experience. Does the job but wouldn't go out of my way for it.\",\n",
        "            \"Decent enough. Has both good and bad points, mostly mediocre.\"\n",
        "        ],\n",
        "\n",
        "        \"Sarcastic Reviews\": [\n",
        "            \"Oh yeah, 'AMAZING' service... if you enjoy waiting for hours! *slow clap*\",\n",
        "            \"Wow, what a 'fantastic' experience... if you like throwing money away!\",\n",
        "            \"Just 'perfect'... if you're a fan of complete disappointment! 👏\"\n",
        "        ],\n",
        "\n",
        "        \"Reviews with Negation\": [\n",
        "            \"Not as bad as I expected, actually quite good.\",\n",
        "            \"This isn't terrible at all, rather enjoyable.\",\n",
        "            \"The service wasn't great, but not horrible either.\"\n",
        "        ],\n",
        "\n",
        "        \"Reviews with Multipolarity\": [\n",
        "            \"Great food but terrible service. Can't decide if I'll return.\",\n",
        "            \"Amazing quality products, however extremely overpriced. Mixed feelings overall.\",\n",
        "            \"While the interface is beautiful, the functionality is poor. Torn about this one.\"\n",
        "        ]\n",
        "    }\n",
        "\n",
        "    print(\"Testing model with different types of reviews...\")\n",
        "\n",
        "    for category, reviews in test_cases.items():\n",
        "        print(f\"\\n{'-'*20} {category} {'-'*20}\")\n",
        "\n",
        "        results = analyzer.predict(reviews)\n",
        "\n",
        "        for review, result in zip(reviews, results):\n",
        "            print(f\"\\nText: {review}\")\n",
        "            print(f\"Predicted Sentiment: {result['sentiment']}\")\n",
        "            print(f\"Confidence: {result['confidence']:.2f}\")\n",
        "            print(\"Sentiment Scores:\")\n",
        "            for sentiment, score in result['scores'].items():\n",
        "                print(f\"  {sentiment}: {score:.3f}\")\n",
        "            print(\"-\" * 50)\n",
        "\n",
        "    return test_cases\n",
        "\n",
        "# Example usage:\n",
        "def main():\n",
        "    # Initialize and train your model first\n",
        "    analyzer = SentimentAnalyzer()\n",
        "\n",
        "    # Load and prepare data\n",
        "    (X_train, y_train), (X_test, y_test) = analyzer.load_and_prepare_data()\n",
        "\n",
        "    # Build and train model\n",
        "    model = analyzer.build_model()\n",
        "    analyzer.train(X_train, y_train, validation_data=(X_test, y_test), epochs=5)\n",
        "\n",
        "    # Run comprehensive tests\n",
        "    test_cases = test_sentiment_analyzer(analyzer)\n",
        "\n",
        "    # Additional analysis\n",
        "    analyze_results(test_cases, analyzer)\n",
        "\n",
        "def analyze_results(test_cases, analyzer):\n",
        "    \"\"\"\n",
        "    Analyze model performance on different types of reviews\n",
        "    \"\"\"\n",
        "    print(\"\\nPerformance Analysis:\")\n",
        "\n",
        "    for category, reviews in test_cases.items():\n",
        "        results = analyzer.predict(reviews)\n",
        "\n",
        "        # Calculate average confidence\n",
        "        avg_confidence = np.mean([r['confidence'] for r in results])\n",
        "\n",
        "        # Calculate sentiment distribution\n",
        "        sentiment_dist = {}\n",
        "        for result in results:\n",
        "            sentiment = result['sentiment']\n",
        "            sentiment_dist[sentiment] = sentiment_dist.get(sentiment, 0) + 1\n",
        "\n",
        "        print(f\"\\n{category}:\")\n",
        "        print(f\"Average Confidence: {avg_confidence:.2f}\")\n",
        "        print(\"Sentiment Distribution:\", sentiment_dist)\n",
        "\n",
        "if __name__ == \"__main__\":\n",
        "    main()"
      ],
      "metadata": {
        "colab": {
          "base_uri": "https://localhost:8080/"
        },
        "id": "72-KfYDP13cp",
        "outputId": "dd6bcb6c-05f4-40c8-fd09-35cc6dd0136f"
      },
      "execution_count": null,
      "outputs": [
        {
          "output_type": "stream",
          "name": "stdout",
          "text": [
            "Loading Yelp dataset...\n",
            "Training samples: 24000\n",
            "Testing samples: 6000\n",
            "Epoch 1/5\n"
          ]
        },
        {
          "output_type": "stream",
          "name": "stderr",
          "text": [
            "/usr/local/lib/python3.10/dist-packages/keras/src/layers/core/embedding.py:90: UserWarning: Argument `input_length` is deprecated. Just remove it.\n",
            "  warnings.warn(\n"
          ]
        },
        {
          "output_type": "stream",
          "name": "stdout",
          "text": [
            "\u001b[1m750/750\u001b[0m \u001b[32m━━━━━━━━━━━━━━━━━━━━\u001b[0m\u001b[37m\u001b[0m \u001b[1m28s\u001b[0m 33ms/step - accuracy: 0.4956 - loss: 0.9537 - val_accuracy: 0.6850 - val_loss: 0.6923\n",
            "Epoch 2/5\n",
            "\u001b[1m750/750\u001b[0m \u001b[32m━━━━━━━━━━━━━━━━━━━━\u001b[0m\u001b[37m\u001b[0m \u001b[1m40s\u001b[0m 32ms/step - accuracy: 0.7241 - loss: 0.6360 - val_accuracy: 0.6903 - val_loss: 0.7049\n",
            "Epoch 3/5\n",
            "\u001b[1m750/750\u001b[0m \u001b[32m━━━━━━━━━━━━━━━━━━━━\u001b[0m\u001b[37m\u001b[0m \u001b[1m41s\u001b[0m 32ms/step - accuracy: 0.7856 - loss: 0.5183 - val_accuracy: 0.6893 - val_loss: 0.7438\n",
            "Epoch 4/5\n",
            "\u001b[1m750/750\u001b[0m \u001b[32m━━━━━━━━━━━━━━━━━━━━\u001b[0m\u001b[37m\u001b[0m \u001b[1m41s\u001b[0m 32ms/step - accuracy: 0.8360 - loss: 0.4198 - val_accuracy: 0.6725 - val_loss: 0.7561\n",
            "Testing model with different types of reviews...\n",
            "\n",
            "-------------------- Positive Reviews --------------------\n",
            "\u001b[1m1/1\u001b[0m \u001b[32m━━━━━━━━━━━━━━━━━━━━\u001b[0m\u001b[37m\u001b[0m \u001b[1m1s\u001b[0m 625ms/step\n",
            "\n",
            "Text: This is absolutely amazing! The best experience I've ever had!\n",
            "Predicted Sentiment: positive\n",
            "Confidence: 0.96\n",
            "Sentiment Scores:\n",
            "  negative: 0.001\n",
            "  neutral: 0.043\n",
            "  positive: 0.956\n",
            "--------------------------------------------------\n",
            "\n",
            "Text: Outstanding service and incredible quality. Highly recommend to everyone!\n",
            "Predicted Sentiment: positive\n",
            "Confidence: 0.96\n",
            "Sentiment Scores:\n",
            "  negative: 0.000\n",
            "  neutral: 0.041\n",
            "  positive: 0.958\n",
            "--------------------------------------------------\n",
            "\n",
            "Text: Exceeded all my expectations. Perfect in every way possible!\n",
            "Predicted Sentiment: positive\n",
            "Confidence: 0.89\n",
            "Sentiment Scores:\n",
            "  negative: 0.004\n",
            "  neutral: 0.105\n",
            "  positive: 0.891\n",
            "--------------------------------------------------\n",
            "\n",
            "-------------------- Negative Reviews --------------------\n",
            "\u001b[1m1/1\u001b[0m \u001b[32m━━━━━━━━━━━━━━━━━━━━\u001b[0m\u001b[37m\u001b[0m \u001b[1m0s\u001b[0m 26ms/step\n",
            "\n",
            "Text: Terrible experience. Worst service I've ever encountered.\n",
            "Predicted Sentiment: negative\n",
            "Confidence: 0.99\n",
            "Sentiment Scores:\n",
            "  negative: 0.993\n",
            "  neutral: 0.005\n",
            "  positive: 0.002\n",
            "--------------------------------------------------\n",
            "\n",
            "Text: Complete waste of money. Extremely disappointing quality.\n",
            "Predicted Sentiment: negative\n",
            "Confidence: 0.97\n",
            "Sentiment Scores:\n",
            "  negative: 0.971\n",
            "  neutral: 0.020\n",
            "  positive: 0.009\n",
            "--------------------------------------------------\n",
            "\n",
            "Text: Absolutely horrible. Would never recommend this to anyone.\n",
            "Predicted Sentiment: negative\n",
            "Confidence: 0.90\n",
            "Sentiment Scores:\n",
            "  negative: 0.905\n",
            "  neutral: 0.054\n",
            "  positive: 0.041\n",
            "--------------------------------------------------\n",
            "\n",
            "-------------------- Neutral Reviews --------------------\n",
            "\u001b[1m1/1\u001b[0m \u001b[32m━━━━━━━━━━━━━━━━━━━━\u001b[0m\u001b[37m\u001b[0m \u001b[1m0s\u001b[0m 26ms/step\n",
            "\n",
            "Text: It's okay, nothing special but nothing terrible either.\n",
            "Predicted Sentiment: negative\n",
            "Confidence: 0.99\n",
            "Sentiment Scores:\n",
            "  negative: 0.995\n",
            "  neutral: 0.004\n",
            "  positive: 0.001\n",
            "--------------------------------------------------\n",
            "\n",
            "Text: Average experience. Does the job but wouldn't go out of my way for it.\n",
            "Predicted Sentiment: negative\n",
            "Confidence: 0.95\n",
            "Sentiment Scores:\n",
            "  negative: 0.955\n",
            "  neutral: 0.031\n",
            "  positive: 0.014\n",
            "--------------------------------------------------\n",
            "\n",
            "Text: Decent enough. Has both good and bad points, mostly mediocre.\n",
            "Predicted Sentiment: negative\n",
            "Confidence: 0.98\n",
            "Sentiment Scores:\n",
            "  negative: 0.984\n",
            "  neutral: 0.012\n",
            "  positive: 0.004\n",
            "--------------------------------------------------\n",
            "\n",
            "-------------------- Sarcastic Reviews --------------------\n",
            "\u001b[1m1/1\u001b[0m \u001b[32m━━━━━━━━━━━━━━━━━━━━\u001b[0m\u001b[37m\u001b[0m \u001b[1m0s\u001b[0m 25ms/step\n",
            "\n",
            "Text: Oh yeah, 'AMAZING' service... if you enjoy waiting for hours! *slow clap*\n",
            "Predicted Sentiment: negative\n",
            "Confidence: 0.85\n",
            "Sentiment Scores:\n",
            "  negative: 0.851\n",
            "  neutral: 0.105\n",
            "  positive: 0.044\n",
            "--------------------------------------------------\n",
            "\n",
            "Text: Wow, what a 'fantastic' experience... if you like throwing money away!\n",
            "Predicted Sentiment: negative\n",
            "Confidence: 0.67\n",
            "Sentiment Scores:\n",
            "  negative: 0.670\n",
            "  neutral: 0.184\n",
            "  positive: 0.146\n",
            "--------------------------------------------------\n",
            "\n",
            "Text: Just 'perfect'... if you're a fan of complete disappointment! 👏\n",
            "Predicted Sentiment: negative\n",
            "Confidence: 0.85\n",
            "Sentiment Scores:\n",
            "  negative: 0.848\n",
            "  neutral: 0.103\n",
            "  positive: 0.049\n",
            "--------------------------------------------------\n",
            "\n",
            "-------------------- Reviews with Negation --------------------\n",
            "\u001b[1m1/1\u001b[0m \u001b[32m━━━━━━━━━━━━━━━━━━━━\u001b[0m\u001b[37m\u001b[0m \u001b[1m0s\u001b[0m 25ms/step\n",
            "\n",
            "Text: Not as bad as I expected, actually quite good.\n",
            "Predicted Sentiment: negative\n",
            "Confidence: 0.68\n",
            "Sentiment Scores:\n",
            "  negative: 0.680\n",
            "  neutral: 0.204\n",
            "  positive: 0.116\n",
            "--------------------------------------------------\n",
            "\n",
            "Text: This isn't terrible at all, rather enjoyable.\n",
            "Predicted Sentiment: negative\n",
            "Confidence: 0.98\n",
            "Sentiment Scores:\n",
            "  negative: 0.982\n",
            "  neutral: 0.013\n",
            "  positive: 0.005\n",
            "--------------------------------------------------\n",
            "\n",
            "Text: The service wasn't great, but not horrible either.\n",
            "Predicted Sentiment: negative\n",
            "Confidence: 0.97\n",
            "Sentiment Scores:\n",
            "  negative: 0.971\n",
            "  neutral: 0.023\n",
            "  positive: 0.007\n",
            "--------------------------------------------------\n",
            "\n",
            "-------------------- Reviews with Multipolarity --------------------\n",
            "\u001b[1m1/1\u001b[0m \u001b[32m━━━━━━━━━━━━━━━━━━━━\u001b[0m\u001b[37m\u001b[0m \u001b[1m0s\u001b[0m 26ms/step\n",
            "\n",
            "Text: Great food but terrible service. Can't decide if I'll return.\n",
            "Predicted Sentiment: negative\n",
            "Confidence: 0.98\n",
            "Sentiment Scores:\n",
            "  negative: 0.985\n",
            "  neutral: 0.012\n",
            "  positive: 0.003\n",
            "--------------------------------------------------\n",
            "\n",
            "Text: Amazing quality products, however extremely overpriced. Mixed feelings overall.\n",
            "Predicted Sentiment: negative\n",
            "Confidence: 0.66\n",
            "Sentiment Scores:\n",
            "  negative: 0.655\n",
            "  neutral: 0.193\n",
            "  positive: 0.151\n",
            "--------------------------------------------------\n",
            "\n",
            "Text: While the interface is beautiful, the functionality is poor. Torn about this one.\n",
            "Predicted Sentiment: negative\n",
            "Confidence: 0.92\n",
            "Sentiment Scores:\n",
            "  negative: 0.918\n",
            "  neutral: 0.052\n",
            "  positive: 0.030\n",
            "--------------------------------------------------\n",
            "\n",
            "Performance Analysis:\n",
            "\u001b[1m1/1\u001b[0m \u001b[32m━━━━━━━━━━━━━━━━━━━━\u001b[0m\u001b[37m\u001b[0m \u001b[1m0s\u001b[0m 26ms/step\n",
            "\n",
            "Positive Reviews:\n",
            "Average Confidence: 0.94\n",
            "Sentiment Distribution: {'positive': 3}\n",
            "\u001b[1m1/1\u001b[0m \u001b[32m━━━━━━━━━━━━━━━━━━━━\u001b[0m\u001b[37m\u001b[0m \u001b[1m0s\u001b[0m 25ms/step\n",
            "\n",
            "Negative Reviews:\n",
            "Average Confidence: 0.96\n",
            "Sentiment Distribution: {'negative': 3}\n",
            "\u001b[1m1/1\u001b[0m \u001b[32m━━━━━━━━━━━━━━━━━━━━\u001b[0m\u001b[37m\u001b[0m \u001b[1m0s\u001b[0m 25ms/step\n",
            "\n",
            "Neutral Reviews:\n",
            "Average Confidence: 0.98\n",
            "Sentiment Distribution: {'negative': 3}\n",
            "\u001b[1m1/1\u001b[0m \u001b[32m━━━━━━━━━━━━━━━━━━━━\u001b[0m\u001b[37m\u001b[0m \u001b[1m0s\u001b[0m 24ms/step\n",
            "\n",
            "Sarcastic Reviews:\n",
            "Average Confidence: 0.79\n",
            "Sentiment Distribution: {'negative': 3}\n",
            "\u001b[1m1/1\u001b[0m \u001b[32m━━━━━━━━━━━━━━━━━━━━\u001b[0m\u001b[37m\u001b[0m \u001b[1m0s\u001b[0m 24ms/step\n",
            "\n",
            "Reviews with Negation:\n",
            "Average Confidence: 0.88\n",
            "Sentiment Distribution: {'negative': 3}\n",
            "\u001b[1m1/1\u001b[0m \u001b[32m━━━━━━━━━━━━━━━━━━━━\u001b[0m\u001b[37m\u001b[0m \u001b[1m0s\u001b[0m 25ms/step\n",
            "\n",
            "Reviews with Multipolarity:\n",
            "Average Confidence: 0.85\n",
            "Sentiment Distribution: {'negative': 3}\n"
          ]
        }
      ]
    }
  ],
  "metadata": {
    "colab": {
      "name": "Course 3 - Week 1 - Lesson 1.ipynb",
      "provenance": [],
      "gpuType": "T4",
      "include_colab_link": true
    },
    "kernelspec": {
      "display_name": "Python 3",
      "name": "python3"
    },
    "accelerator": "GPU"
  },
  "nbformat": 4,
  "nbformat_minor": 0
}